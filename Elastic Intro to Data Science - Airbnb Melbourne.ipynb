{
 "cells": [
  {
   "cell_type": "markdown",
   "metadata": {},
   "source": [
    "# Summary\n",
    "\n",
    "**Airbnb listings in Melbourne city**\n",
    "\n",
    "Detailed listings data for Melbourne\n",
    "The data behind the Inside Airbnb site is sourced from publicly available information from the Airbnb site.\n",
    "\n",
    "[Dataset source](http://insideairbnb.com/get-the-data.html)\n",
    "\n",
    "**Stats**\n",
    "\n",
    "* 22,909 listings\n",
    "* 14,849 unique hosts\n",
    "* 14,599 listings for \"whole apartment\"\n",
    "* 9,090 unique hosts for \"whole apartment\"\n",
    "\n",
    "\n",
    "* 30 neighbourhoods\n",
    "* 485 cities\n",
    "* 538 streets\n",
    "\n",
    "\n",
    "* bathrooms: min 0.5, max 14, median 1\n",
    "* bedrooms: min 0, max 16, median 2\n",
    "* price: expressed in dollars min 0, max 999, avg. 180\n",
    "\n",
    "# Goals\n",
    "\n",
    "This analysis will explore the dataset provided by [insideairbnb.com](http://insideairbnb.com/index.html).\n",
    "\n",
    "The goal here is to get this cleaned up a little and into Elasticsearch where we'll explore further.\n",
    "\n",
    "## Thanks to the Elastic Machine Learning team for the work this example is based on :)!"
   ]
  },
  {
   "cell_type": "code",
   "execution_count": 5,
   "metadata": {},
   "outputs": [],
   "source": [
    "import pandas as pd\n",
    "import numpy as np\n",
    "import json\n",
    "import csv\n",
    "from elasticsearch import helpers, Elasticsearch\n",
    "import requests\n",
    "import re\n",
    "import os"
   ]
  },
  {
   "cell_type": "code",
   "execution_count": 6,
   "metadata": {
    "scrolled": true
   },
   "outputs": [
    {
     "name": "stderr",
     "output_type": "stream",
     "text": [
      "/Users/emanuil/elastic/talks/data-science-intro-to-es-kibana-TALK/dsenv/lib/python3.7/site-packages/IPython/core/interactiveshell.py:3146: DtypeWarning: Columns (43,61,62,94) have mixed types.Specify dtype option on import or set low_memory=False.\n",
      "  interactivity=interactivity, compiler=compiler, result=result)\n"
     ]
    }
   ],
   "source": [
    "df = pd.read_csv(\"listings.csv\")"
   ]
  },
  {
   "cell_type": "markdown",
   "metadata": {},
   "source": [
    "You can ignore the DType warning the line above may produce."
   ]
  },
  {
   "cell_type": "code",
   "execution_count": 7,
   "metadata": {},
   "outputs": [],
   "source": [
    "df = df[[\"id\",\n",
    "\"host_id\",\n",
    "\"street\",\n",
    "\"neighbourhood_cleansed\",\n",
    "\"city\",\n",
    "\"state\",\n",
    "\"zipcode\",\n",
    "\"country\",\n",
    "\"latitude\",\n",
    "\"longitude\",\n",
    "\"property_type\",\n",
    "\"room_type\",\n",
    "\"bathrooms\",\n",
    "\"bedrooms\",\n",
    "\"square_feet\",\n",
    "\"price\",\n",
    "\"number_of_reviews\"]]"
   ]
  },
  {
   "cell_type": "code",
   "execution_count": 8,
   "metadata": {},
   "outputs": [
    {
     "data": {
      "text/html": [
       "<div>\n",
       "<style scoped>\n",
       "    .dataframe tbody tr th:only-of-type {\n",
       "        vertical-align: middle;\n",
       "    }\n",
       "\n",
       "    .dataframe tbody tr th {\n",
       "        vertical-align: top;\n",
       "    }\n",
       "\n",
       "    .dataframe thead th {\n",
       "        text-align: right;\n",
       "    }\n",
       "</style>\n",
       "<table border=\"1\" class=\"dataframe\">\n",
       "  <thead>\n",
       "    <tr style=\"text-align: right;\">\n",
       "      <th></th>\n",
       "      <th>id</th>\n",
       "      <th>host_id</th>\n",
       "      <th>street</th>\n",
       "      <th>neighbourhood_cleansed</th>\n",
       "      <th>city</th>\n",
       "      <th>state</th>\n",
       "      <th>zipcode</th>\n",
       "      <th>country</th>\n",
       "      <th>latitude</th>\n",
       "      <th>longitude</th>\n",
       "      <th>property_type</th>\n",
       "      <th>room_type</th>\n",
       "      <th>bathrooms</th>\n",
       "      <th>bedrooms</th>\n",
       "      <th>square_feet</th>\n",
       "      <th>price</th>\n",
       "      <th>number_of_reviews</th>\n",
       "    </tr>\n",
       "  </thead>\n",
       "  <tbody>\n",
       "    <tr>\n",
       "      <th>0</th>\n",
       "      <td>9835</td>\n",
       "      <td>33057</td>\n",
       "      <td>Bulleen, VIC, Australia</td>\n",
       "      <td>Manningham</td>\n",
       "      <td>Bulleen</td>\n",
       "      <td>VIC</td>\n",
       "      <td>3105</td>\n",
       "      <td>Australia</td>\n",
       "      <td>-37.77268</td>\n",
       "      <td>145.09213</td>\n",
       "      <td>House</td>\n",
       "      <td>Private room</td>\n",
       "      <td>1.0</td>\n",
       "      <td>1.0</td>\n",
       "      <td>NaN</td>\n",
       "      <td>$60.00</td>\n",
       "      <td>4</td>\n",
       "    </tr>\n",
       "    <tr>\n",
       "      <th>1</th>\n",
       "      <td>10803</td>\n",
       "      <td>38901</td>\n",
       "      <td>Brunswick East, VIC, Australia</td>\n",
       "      <td>Moreland</td>\n",
       "      <td>Brunswick East</td>\n",
       "      <td>VIC</td>\n",
       "      <td>3057</td>\n",
       "      <td>Australia</td>\n",
       "      <td>-37.76651</td>\n",
       "      <td>144.98074</td>\n",
       "      <td>Apartment</td>\n",
       "      <td>Private room</td>\n",
       "      <td>1.0</td>\n",
       "      <td>1.0</td>\n",
       "      <td>226.0</td>\n",
       "      <td>$35.00</td>\n",
       "      <td>129</td>\n",
       "    </tr>\n",
       "    <tr>\n",
       "      <th>2</th>\n",
       "      <td>12936</td>\n",
       "      <td>50121</td>\n",
       "      <td>St Kilda, VIC, Australia</td>\n",
       "      <td>Port Phillip</td>\n",
       "      <td>St Kilda</td>\n",
       "      <td>VIC</td>\n",
       "      <td>3182</td>\n",
       "      <td>Australia</td>\n",
       "      <td>-37.85976</td>\n",
       "      <td>144.97737</td>\n",
       "      <td>Apartment</td>\n",
       "      <td>Entire home/apt</td>\n",
       "      <td>1.0</td>\n",
       "      <td>1.0</td>\n",
       "      <td>0.0</td>\n",
       "      <td>$159.00</td>\n",
       "      <td>30</td>\n",
       "    </tr>\n",
       "    <tr>\n",
       "      <th>3</th>\n",
       "      <td>15246</td>\n",
       "      <td>59786</td>\n",
       "      <td>Thornbury, VIC, Australia</td>\n",
       "      <td>Darebin</td>\n",
       "      <td>Thornbury</td>\n",
       "      <td>VIC</td>\n",
       "      <td>3071</td>\n",
       "      <td>Australia</td>\n",
       "      <td>-37.75897</td>\n",
       "      <td>144.98923</td>\n",
       "      <td>House</td>\n",
       "      <td>Private room</td>\n",
       "      <td>1.5</td>\n",
       "      <td>1.0</td>\n",
       "      <td>0.0</td>\n",
       "      <td>$49.00</td>\n",
       "      <td>29</td>\n",
       "    </tr>\n",
       "    <tr>\n",
       "      <th>4</th>\n",
       "      <td>16760</td>\n",
       "      <td>65090</td>\n",
       "      <td>St Kilda East, VIC, Australia</td>\n",
       "      <td>Port Phillip</td>\n",
       "      <td>St Kilda East</td>\n",
       "      <td>VIC</td>\n",
       "      <td>3183</td>\n",
       "      <td>Australia</td>\n",
       "      <td>-37.86453</td>\n",
       "      <td>144.99224</td>\n",
       "      <td>House</td>\n",
       "      <td>Private room</td>\n",
       "      <td>1.0</td>\n",
       "      <td>1.0</td>\n",
       "      <td>NaN</td>\n",
       "      <td>$68.00</td>\n",
       "      <td>75</td>\n",
       "    </tr>\n",
       "  </tbody>\n",
       "</table>\n",
       "</div>"
      ],
      "text/plain": [
       "      id  host_id                          street neighbourhood_cleansed  \\\n",
       "0   9835    33057         Bulleen, VIC, Australia             Manningham   \n",
       "1  10803    38901  Brunswick East, VIC, Australia               Moreland   \n",
       "2  12936    50121        St Kilda, VIC, Australia           Port Phillip   \n",
       "3  15246    59786       Thornbury, VIC, Australia                Darebin   \n",
       "4  16760    65090   St Kilda East, VIC, Australia           Port Phillip   \n",
       "\n",
       "             city state zipcode    country  latitude  longitude property_type  \\\n",
       "0         Bulleen   VIC    3105  Australia -37.77268  145.09213         House   \n",
       "1  Brunswick East   VIC    3057  Australia -37.76651  144.98074     Apartment   \n",
       "2        St Kilda   VIC    3182  Australia -37.85976  144.97737     Apartment   \n",
       "3       Thornbury   VIC    3071  Australia -37.75897  144.98923         House   \n",
       "4   St Kilda East   VIC    3183  Australia -37.86453  144.99224         House   \n",
       "\n",
       "         room_type  bathrooms  bedrooms  square_feet    price  \\\n",
       "0     Private room        1.0       1.0          NaN   $60.00   \n",
       "1     Private room        1.0       1.0        226.0   $35.00   \n",
       "2  Entire home/apt        1.0       1.0          0.0  $159.00   \n",
       "3     Private room        1.5       1.0          0.0   $49.00   \n",
       "4     Private room        1.0       1.0          NaN   $68.00   \n",
       "\n",
       "   number_of_reviews  \n",
       "0                  4  \n",
       "1                129  \n",
       "2                 30  \n",
       "3                 29  \n",
       "4                 75  "
      ]
     },
     "execution_count": 8,
     "metadata": {},
     "output_type": "execute_result"
    }
   ],
   "source": [
    "df.head()"
   ]
  },
  {
   "cell_type": "markdown",
   "metadata": {},
   "source": [
    "## Cleaning and pre-processing\n",
    "\n",
    "**Set the number of bedrooms to 1 in case it's a NaN \n",
    "and the number of bathroom to 1 if it's either a NaN or 0**"
   ]
  },
  {
   "cell_type": "code",
   "execution_count": 9,
   "metadata": {},
   "outputs": [],
   "source": [
    "df[\"bedrooms\"].replace(np.nan, 1, inplace=True)\n",
    "df[\"bathrooms\"].replace(np.nan, 1, inplace=True)\n",
    "df[\"bathrooms\"].replace(0, 1, inplace=True)"
   ]
  },
  {
   "cell_type": "markdown",
   "metadata": {},
   "source": [
    "**Cleaning the `price` field and changing its type to float**"
   ]
  },
  {
   "cell_type": "code",
   "execution_count": 10,
   "metadata": {},
   "outputs": [],
   "source": [
    "reg = \"\\$([0-9]*)(\\.|\\,){1,1}.*\"\n",
    "df[\"price\"] = df[\"price\"].apply(lambda x: re.search(reg, x).group(1))\n",
    "df[\"price\"] = df[\"price\"].astype(\"float\")"
   ]
  },
  {
   "cell_type": "markdown",
   "metadata": {},
   "source": [
    "## Stats"
   ]
  },
  {
   "cell_type": "code",
   "execution_count": 11,
   "metadata": {
    "scrolled": true
   },
   "outputs": [
    {
     "name": "stdout",
     "output_type": "stream",
     "text": [
      "Number of listings: 24194\n",
      "Number of hosts: 15284\n"
     ]
    }
   ],
   "source": [
    "print(f\"Number of listings: {len(df)}\")\n",
    "print(f\"Number of hosts: {len(df.groupby('host_id'))}\")"
   ]
  },
  {
   "cell_type": "markdown",
   "metadata": {},
   "source": [
    "**Now we'll focus on \"whole apartment\" listings only, filtering out the ones with shared/private bedrooms**"
   ]
  },
  {
   "cell_type": "code",
   "execution_count": 12,
   "metadata": {},
   "outputs": [],
   "source": [
    "entire_place = df[(df[\"room_type\"]==\"Entire home/apt\")]\n",
    "entire_place = entire_place.drop('room_type', axis=1)"
   ]
  },
  {
   "cell_type": "code",
   "execution_count": 13,
   "metadata": {},
   "outputs": [
    {
     "name": "stdout",
     "output_type": "stream",
     "text": [
      "Number of listings: 14868\n",
      "Number of hosts: 9177\n"
     ]
    }
   ],
   "source": [
    "print(f\"Number of listings: {len(entire_place)}\")\n",
    "print(f\"Number of hosts: {len(entire_place.groupby('host_id'))}\")"
   ]
  },
  {
   "cell_type": "markdown",
   "metadata": {},
   "source": [
    "**The number of states is > 1**\n",
    "**Looking at the data we can see that the field contains different variation of 'Victoria' and other terms. Let's replace the state value for each entry with the unique term'Victoria'**"
   ]
  },
  {
   "cell_type": "code",
   "execution_count": 14,
   "metadata": {},
   "outputs": [
    {
     "name": "stdout",
     "output_type": "stream",
     "text": [
      "Number of unique states: 11\n",
      "['VIC' 'Victoria' 'Vic' 'Melbourne' nan 'Australia' 'victoria' 'VICTORIA'\n",
      " '维多利亚' 'vic' 'VIV']\n"
     ]
    }
   ],
   "source": [
    "print(f\"Number of unique states: {len(entire_place['state'].unique())}\")\n",
    "print(entire_place[\"state\"].unique())"
   ]
  },
  {
   "cell_type": "code",
   "execution_count": 15,
   "metadata": {},
   "outputs": [],
   "source": [
    "entire_place[\"state\"] = \"Victoria\""
   ]
  },
  {
   "cell_type": "code",
   "execution_count": 16,
   "metadata": {},
   "outputs": [
    {
     "name": "stdout",
     "output_type": "stream",
     "text": [
      "Number of unique cities: 494\n",
      "Number of unique neighbourhood: 30\n",
      "Number of unique street: 542\n"
     ]
    }
   ],
   "source": [
    "print(f\"Number of unique cities: {len(entire_place['city'].unique())}\")\n",
    "print(f\"Number of unique neighbourhood: {len(entire_place['neighbourhood_cleansed'].unique())}\")\n",
    "print(f\"Number of unique street: {len(entire_place['street'].unique())}\")"
   ]
  },
  {
   "cell_type": "markdown",
   "metadata": {},
   "source": [
    "### Recording the cleaned data to disk"
   ]
  },
  {
   "cell_type": "code",
   "execution_count": 17,
   "metadata": {},
   "outputs": [],
   "source": [
    "cleaned_file = f\"cleaned_melbourne_listings.csv\""
   ]
  },
  {
   "cell_type": "code",
   "execution_count": 19,
   "metadata": {},
   "outputs": [],
   "source": [
    "entire_place.to_csv(cleaned_file, header=False, index=False)"
   ]
  },
  {
   "cell_type": "markdown",
   "metadata": {},
   "source": [
    "## Putting the data in Elasticsearch - mappings and indexing"
   ]
  },
  {
   "cell_type": "code",
   "execution_count": 20,
   "metadata": {},
   "outputs": [],
   "source": [
    "mappings = {\n",
    "    \"settings\" : {\n",
    "        \"number_of_shards\" : 1\n",
    "    },\n",
    "    \"mappings\" : {   \n",
    "            \"properties\" : {\n",
    "                \"listing_id\" : {\"type\" : \"keyword\"},\n",
    "                \"host_id\" : {\"type\" : \"keyword\"},\n",
    "                \"street\" : {\"type\" : \"keyword\"},\n",
    "                \"neighbourhood\" : {\"type\" : \"keyword\"},\n",
    "                \"city\" : {\"type\" : \"keyword\"},\n",
    "                \"state\" : {\"type\" : \"keyword\"},\n",
    "                \"zipcode\" : {\"type\" : \"keyword\"},\n",
    "                \"country\" : {\"type\" : \"keyword\"},\n",
    "                \"location\" : {\"type\": \"geo_point\"},\n",
    "                \"property_type\" : {\"type\" : \"keyword\"},\n",
    "                \"bathrooms\" : {\"type\" : \"float\"},\n",
    "                \"bedrooms\" : {\"type\" : \"float\"},\n",
    "                \"price\" : {\"type\" : \"float\"},\n",
    "                \"number_of_reviews\" : {\"type\" : \"integer\"}\n",
    "                \n",
    "            }\n",
    "    }\n",
    "}"
   ]
  },
  {
   "cell_type": "code",
   "execution_count": 21,
   "metadata": {},
   "outputs": [],
   "source": [
    "INDEX_NAME = 'airbnb_melbourne'"
   ]
  },
  {
   "cell_type": "code",
   "execution_count": 22,
   "metadata": {},
   "outputs": [],
   "source": [
    "def get_data():\n",
    "    with open(cleaned_file, mode='r') as csv_file:\n",
    "        csv_reader = csv.DictReader(csv_file,\n",
    "                                    fieldnames=[\"listing_id\", \"host_id\", \"street\",\n",
    "                                               \"neighbourhood\", \"city\", \"state\",\n",
    "                                               \"zipcode\", \"country\", \"latitude\",\n",
    "                                               \"longitude\", \"property_type\", \n",
    "                                               \"bathrooms\", \"bedrooms\", \"square_feet\",\n",
    "                                               \"price\", \"number_of_reviews\"])\n",
    "        for i in csv_reader:\n",
    "            i[\"location\"] = {\"lat\": i[\"latitude\"], \"lon\": i[\"longitude\"]}\n",
    "            del i[\"latitude\"]\n",
    "            del i[\"longitude\"]\n",
    "            yield {\n",
    "                \"_index\": INDEX_NAME,\n",
    "                \"_source\": i\n",
    "            }"
   ]
  },
  {
   "cell_type": "markdown",
   "metadata": {},
   "source": [
    "### Use Elastic Cloud"
   ]
  },
  {
   "cell_type": "code",
   "execution_count": 23,
   "metadata": {},
   "outputs": [],
   "source": [
    "es = Elasticsearch(\n",
    "    [os.environ['ELASTIC_CLOUD_ES_ENDPOINT']],\n",
    "    http_auth=('elastic', os.environ['ELASTIC_CLOUD_PASSWORD']),\n",
    "    scheme=\"https\",\n",
    "    port=443,\n",
    ")"
   ]
  },
  {
   "cell_type": "code",
   "execution_count": 24,
   "metadata": {},
   "outputs": [
    {
     "data": {
      "text/plain": [
       "{'error': {'root_cause': [{'type': 'index_not_found_exception',\n",
       "    'reason': 'no such index [airbnb_melbourne]',\n",
       "    'resource.type': 'index_or_alias',\n",
       "    'resource.id': 'airbnb_melbourne',\n",
       "    'index_uuid': '_na_',\n",
       "    'index': 'airbnb_melbourne'}],\n",
       "  'type': 'index_not_found_exception',\n",
       "  'reason': 'no such index [airbnb_melbourne]',\n",
       "  'resource.type': 'index_or_alias',\n",
       "  'resource.id': 'airbnb_melbourne',\n",
       "  'index_uuid': '_na_',\n",
       "  'index': 'airbnb_melbourne'},\n",
       " 'status': 404}"
      ]
     },
     "execution_count": 24,
     "metadata": {},
     "output_type": "execute_result"
    }
   ],
   "source": [
    "es.indices.delete(INDEX_NAME, ignore=[400, 404])  # to reset"
   ]
  },
  {
   "cell_type": "code",
   "execution_count": 25,
   "metadata": {
    "scrolled": true
   },
   "outputs": [
    {
     "data": {
      "text/plain": [
       "{'acknowledged': True,\n",
       " 'shards_acknowledged': True,\n",
       " 'index': 'airbnb_melbourne'}"
      ]
     },
     "execution_count": 25,
     "metadata": {},
     "output_type": "execute_result"
    }
   ],
   "source": [
    "es.indices.create(INDEX_NAME, mappings)"
   ]
  },
  {
   "cell_type": "code",
   "execution_count": 26,
   "metadata": {},
   "outputs": [
    {
     "data": {
      "text/plain": [
       "(14868, [])"
      ]
     },
     "execution_count": 26,
     "metadata": {},
     "output_type": "execute_result"
    }
   ],
   "source": [
    "helpers.bulk(es, get_data())\n",
    "# now show the creation of the Kibana Index Pattern and explain what it's for"
   ]
  },
  {
   "cell_type": "markdown",
   "metadata": {},
   "source": [
    "# Retrieve data from Elasticsearch into pandas"
   ]
  },
  {
   "cell_type": "code",
   "execution_count": 27,
   "metadata": {},
   "outputs": [],
   "source": [
    "q = {\"query\": {\"match_all\": {}}, \"size\": 1000}\n",
    "results = helpers.scan(es, query=q, index=\"stkilda\")"
   ]
  },
  {
   "cell_type": "code",
   "execution_count": 28,
   "metadata": {},
   "outputs": [],
   "source": [
    "processed = []\n",
    "for r in results:\n",
    "    r['_source']['price_avg'] = r['_source']['price']['avg']\n",
    "    del r['_source']['price']\n",
    "    processed.append(r['_source'])"
   ]
  },
  {
   "cell_type": "code",
   "execution_count": 29,
   "metadata": {},
   "outputs": [],
   "source": [
    "df = pd.DataFrame.from_dict(processed)"
   ]
  },
  {
   "cell_type": "code",
   "execution_count": 30,
   "metadata": {},
   "outputs": [
    {
     "data": {
      "text/html": [
       "<div>\n",
       "<style scoped>\n",
       "    .dataframe tbody tr th:only-of-type {\n",
       "        vertical-align: middle;\n",
       "    }\n",
       "\n",
       "    .dataframe tbody tr th {\n",
       "        vertical-align: top;\n",
       "    }\n",
       "\n",
       "    .dataframe thead th {\n",
       "        text-align: right;\n",
       "    }\n",
       "</style>\n",
       "<table border=\"1\" class=\"dataframe\">\n",
       "  <thead>\n",
       "    <tr style=\"text-align: right;\">\n",
       "      <th></th>\n",
       "      <th>property_type</th>\n",
       "      <th>price_avg</th>\n",
       "    </tr>\n",
       "  </thead>\n",
       "  <tbody>\n",
       "    <tr>\n",
       "      <th>0</th>\n",
       "      <td>Apartment</td>\n",
       "      <td>150.184685</td>\n",
       "    </tr>\n",
       "    <tr>\n",
       "      <th>1</th>\n",
       "      <td>Condominium</td>\n",
       "      <td>128.750000</td>\n",
       "    </tr>\n",
       "    <tr>\n",
       "      <th>2</th>\n",
       "      <td>Cottage</td>\n",
       "      <td>150.000000</td>\n",
       "    </tr>\n",
       "    <tr>\n",
       "      <th>3</th>\n",
       "      <td>Guest suite</td>\n",
       "      <td>145.000000</td>\n",
       "    </tr>\n",
       "    <tr>\n",
       "      <th>4</th>\n",
       "      <td>House</td>\n",
       "      <td>247.263158</td>\n",
       "    </tr>\n",
       "    <tr>\n",
       "      <th>5</th>\n",
       "      <td>Loft</td>\n",
       "      <td>122.750000</td>\n",
       "    </tr>\n",
       "    <tr>\n",
       "      <th>6</th>\n",
       "      <td>Serviced apartment</td>\n",
       "      <td>121.000000</td>\n",
       "    </tr>\n",
       "    <tr>\n",
       "      <th>7</th>\n",
       "      <td>Townhouse</td>\n",
       "      <td>230.142857</td>\n",
       "    </tr>\n",
       "    <tr>\n",
       "      <th>8</th>\n",
       "      <td>Villa</td>\n",
       "      <td>950.000000</td>\n",
       "    </tr>\n",
       "  </tbody>\n",
       "</table>\n",
       "</div>"
      ],
      "text/plain": [
       "        property_type   price_avg\n",
       "0           Apartment  150.184685\n",
       "1         Condominium  128.750000\n",
       "2             Cottage  150.000000\n",
       "3         Guest suite  145.000000\n",
       "4               House  247.263158\n",
       "5                Loft  122.750000\n",
       "6  Serviced apartment  121.000000\n",
       "7           Townhouse  230.142857\n",
       "8               Villa  950.000000"
      ]
     },
     "execution_count": 30,
     "metadata": {},
     "output_type": "execute_result"
    }
   ],
   "source": [
    "df"
   ]
  },
  {
   "cell_type": "code",
   "execution_count": null,
   "metadata": {},
   "outputs": [],
   "source": []
  }
 ],
 "metadata": {
  "kernelspec": {
   "display_name": "Python 3",
   "language": "python",
   "name": "python3"
  },
  "language_info": {
   "codemirror_mode": {
    "name": "ipython",
    "version": 3
   },
   "file_extension": ".py",
   "mimetype": "text/x-python",
   "name": "python",
   "nbconvert_exporter": "python",
   "pygments_lexer": "ipython3",
   "version": "3.7.6"
  }
 },
 "nbformat": 4,
 "nbformat_minor": 4
}
